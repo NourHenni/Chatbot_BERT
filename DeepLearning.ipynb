{
  "cells": [
    {
      "cell_type": "markdown",
      "metadata": {
        "id": "view-in-github",
        "colab_type": "text"
      },
      "source": [
        "<a href=\"https://colab.research.google.com/github/NourHenni/Chatbot_BERT/blob/main/DeepLearning.ipynb\" target=\"_parent\"><img src=\"https://colab.research.google.com/assets/colab-badge.svg\" alt=\"Open In Colab\"/></a>"
      ]
    },
    {
      "cell_type": "code",
      "execution_count": null,
      "metadata": {
        "id": "yIb33wCY_zpr"
      },
      "outputs": [],
      "source": [
        "import warnings\n",
        "warnings.filterwarnings('ignore')"
      ]
    },
    {
      "cell_type": "code",
      "execution_count": null,
      "metadata": {
        "id": "gA4-O6xr7g68"
      },
      "outputs": [],
      "source": [
        "!pip install transformers[torch]\n",
        "import nltk\n",
        "nltk.download('punkt')"
      ]
    },
    {
      "cell_type": "markdown",
      "source": [
        "\n",
        "# **1.  Importation**\n",
        "\n"
      ],
      "metadata": {
        "id": "3K5Ccbe4kPgY"
      }
    },
    {
      "cell_type": "code",
      "execution_count": null,
      "metadata": {
        "id": "mNkZDkont7_K"
      },
      "outputs": [],
      "source": [
        "import json\n",
        "import pandas as pd\n",
        "import random\n",
        "from matplotlib import pyplot as plt\n",
        "import numpy as np\n",
        "\n",
        "\n",
        "\n",
        "from sklearn.model_selection import train_test_split  # Importation de train_test_split pour diviser les données en ensembles d'entraînement et de test.\n",
        "from sklearn.metrics import accuracy_score, precision_recall_fscore_support  # Importation de métriques pour évaluer les modèles.\n",
        "\n",
        "# Importation des bibliothèques nécessaires pour le prétraitement des données textuelles et l'utilisation des modèles de deep learning.\n",
        "import nltk  # Bibliothèque pour le traitement du langage naturel\n",
        "from nltk import word_tokenize  # Fonction de tokenisation des mots\n",
        "from nltk.stem import PorterStemmer  # Algorithme de racinisation pour le prétraitement des mots\n",
        "\n",
        "import torch  # Bibliothèque principale pour l'apprentissage automatique\n",
        "from torch.utils.data import Dataset  # Classe de Dataset pour manipuler les données\n",
        "\n",
        "# Importation des classes et fonctions spécifiques des Transformers pour l'utilisation des modèles de traitement du langage naturel\n",
        "from transformers import AutoTokenizer, TFAutoModelForSequenceClassification  # Modèles automatiques et Tokenizers\n",
        "from transformers import pipeline  # Création de pipelines pour l'inférence avec les modèles Transformers\n",
        "from transformers import DistilBertTokenizerFast  # Tokenizer rapide pour le modèle DistilBERT\n",
        "from transformers import BertForSequenceClassification, BertTokenizerFast  # Modèle BERT pour la classification de séquences\n",
        "from transformers import BertTokenizer, TFBertForSequenceClassification, BertConfig  # Configurations pour BERT\n",
        "from transformers import Trainer, TrainingArguments  # Entraînement des modèles Transformers avec des arguments spécifiques\n",
        "\n"
      ]
    },
    {
      "cell_type": "markdown",
      "source": [
        "\n",
        "# **2. Analyse Exploratoire des données**\n",
        "### **2.1 Chargement des données**\n",
        "\n",
        "\n",
        "\n",
        "\n",
        "\n",
        "\n"
      ],
      "metadata": {
        "id": "sldhVOyZk5td"
      }
    },
    {
      "cell_type": "code",
      "execution_count": null,
      "metadata": {
        "id": "wxv3g36M5fk5"
      },
      "outputs": [],
      "source": [
        "def load_json_file(filename):\n",
        "    with open(filename) as f:\n",
        "        file = json.load(f)\n",
        "    return file\n",
        "\n",
        "filename = '/content/intents.json'\n",
        "\n",
        "intents = load_json_file(filename)"
      ]
    },
    {
      "cell_type": "markdown",
      "source": [
        "\n",
        "### **2.2 Extraction des informations du fichier de données Json et stockez-les dans le dataframe**\n"
      ],
      "metadata": {
        "id": "onPuyUwVmEhP"
      }
    },
    {
      "cell_type": "code",
      "execution_count": null,
      "metadata": {
        "colab": {
          "base_uri": "https://localhost:8080/",
          "height": 53
        },
        "id": "3hRbHM6x5pso",
        "outputId": "1310c9be-a070-4b7a-edd7-db8187ffa000"
      },
      "outputs": [
        {
          "output_type": "execute_result",
          "data": {
            "text/plain": [
              "Empty DataFrame\n",
              "Columns: [Pattern, Tag]\n",
              "Index: []"
            ],
            "text/html": [
              "\n",
              "  <div id=\"df-7decab47-d7d5-442e-a106-55b1b0e49d09\" class=\"colab-df-container\">\n",
              "    <div>\n",
              "<style scoped>\n",
              "    .dataframe tbody tr th:only-of-type {\n",
              "        vertical-align: middle;\n",
              "    }\n",
              "\n",
              "    .dataframe tbody tr th {\n",
              "        vertical-align: top;\n",
              "    }\n",
              "\n",
              "    .dataframe thead th {\n",
              "        text-align: right;\n",
              "    }\n",
              "</style>\n",
              "<table border=\"1\" class=\"dataframe\">\n",
              "  <thead>\n",
              "    <tr style=\"text-align: right;\">\n",
              "      <th></th>\n",
              "      <th>Pattern</th>\n",
              "      <th>Tag</th>\n",
              "    </tr>\n",
              "  </thead>\n",
              "  <tbody>\n",
              "  </tbody>\n",
              "</table>\n",
              "</div>\n",
              "    <div class=\"colab-df-buttons\">\n",
              "\n",
              "  <div class=\"colab-df-container\">\n",
              "    <button class=\"colab-df-convert\" onclick=\"convertToInteractive('df-7decab47-d7d5-442e-a106-55b1b0e49d09')\"\n",
              "            title=\"Convert this dataframe to an interactive table.\"\n",
              "            style=\"display:none;\">\n",
              "\n",
              "  <svg xmlns=\"http://www.w3.org/2000/svg\" height=\"24px\" viewBox=\"0 -960 960 960\">\n",
              "    <path d=\"M120-120v-720h720v720H120Zm60-500h600v-160H180v160Zm220 220h160v-160H400v160Zm0 220h160v-160H400v160ZM180-400h160v-160H180v160Zm440 0h160v-160H620v160ZM180-180h160v-160H180v160Zm440 0h160v-160H620v160Z\"/>\n",
              "  </svg>\n",
              "    </button>\n",
              "\n",
              "  <style>\n",
              "    .colab-df-container {\n",
              "      display:flex;\n",
              "      gap: 12px;\n",
              "    }\n",
              "\n",
              "    .colab-df-convert {\n",
              "      background-color: #E8F0FE;\n",
              "      border: none;\n",
              "      border-radius: 50%;\n",
              "      cursor: pointer;\n",
              "      display: none;\n",
              "      fill: #1967D2;\n",
              "      height: 32px;\n",
              "      padding: 0 0 0 0;\n",
              "      width: 32px;\n",
              "    }\n",
              "\n",
              "    .colab-df-convert:hover {\n",
              "      background-color: #E2EBFA;\n",
              "      box-shadow: 0px 1px 2px rgba(60, 64, 67, 0.3), 0px 1px 3px 1px rgba(60, 64, 67, 0.15);\n",
              "      fill: #174EA6;\n",
              "    }\n",
              "\n",
              "    .colab-df-buttons div {\n",
              "      margin-bottom: 4px;\n",
              "    }\n",
              "\n",
              "    [theme=dark] .colab-df-convert {\n",
              "      background-color: #3B4455;\n",
              "      fill: #D2E3FC;\n",
              "    }\n",
              "\n",
              "    [theme=dark] .colab-df-convert:hover {\n",
              "      background-color: #434B5C;\n",
              "      box-shadow: 0px 1px 3px 1px rgba(0, 0, 0, 0.15);\n",
              "      filter: drop-shadow(0px 1px 2px rgba(0, 0, 0, 0.3));\n",
              "      fill: #FFFFFF;\n",
              "    }\n",
              "  </style>\n",
              "\n",
              "    <script>\n",
              "      const buttonEl =\n",
              "        document.querySelector('#df-7decab47-d7d5-442e-a106-55b1b0e49d09 button.colab-df-convert');\n",
              "      buttonEl.style.display =\n",
              "        google.colab.kernel.accessAllowed ? 'block' : 'none';\n",
              "\n",
              "      async function convertToInteractive(key) {\n",
              "        const element = document.querySelector('#df-7decab47-d7d5-442e-a106-55b1b0e49d09');\n",
              "        const dataTable =\n",
              "          await google.colab.kernel.invokeFunction('convertToInteractive',\n",
              "                                                    [key], {});\n",
              "        if (!dataTable) return;\n",
              "\n",
              "        const docLinkHtml = 'Like what you see? Visit the ' +\n",
              "          '<a target=\"_blank\" href=https://colab.research.google.com/notebooks/data_table.ipynb>data table notebook</a>'\n",
              "          + ' to learn more about interactive tables.';\n",
              "        element.innerHTML = '';\n",
              "        dataTable['output_type'] = 'display_data';\n",
              "        await google.colab.output.renderOutput(dataTable, element);\n",
              "        const docLink = document.createElement('div');\n",
              "        docLink.innerHTML = docLinkHtml;\n",
              "        element.appendChild(docLink);\n",
              "      }\n",
              "    </script>\n",
              "  </div>\n",
              "\n",
              "    </div>\n",
              "  </div>\n"
            ],
            "application/vnd.google.colaboratory.intrinsic+json": {
              "type": "dataframe",
              "variable_name": "df",
              "summary": "{\n  \"name\": \"df\",\n  \"rows\": 0,\n  \"fields\": [\n    {\n      \"column\": \"Pattern\",\n      \"properties\": {\n        \"dtype\": \"number\",\n        \"std\": null,\n        \"min\": null,\n        \"max\": null,\n        \"num_unique_values\": 0,\n        \"samples\": [],\n        \"semantic_type\": \"\",\n        \"description\": \"\"\n      }\n    },\n    {\n      \"column\": \"Tag\",\n      \"properties\": {\n        \"dtype\": \"number\",\n        \"std\": null,\n        \"min\": null,\n        \"max\": null,\n        \"num_unique_values\": 0,\n        \"samples\": [],\n        \"semantic_type\": \"\",\n        \"description\": \"\"\n      }\n    }\n  ]\n}"
            }
          },
          "metadata": {},
          "execution_count": 115
        }
      ],
      "source": [
        "def create_df():\n",
        "    df = pd.DataFrame({\n",
        "        'Pattern' : [],\n",
        "        'Tag' : []\n",
        "    })\n",
        "\n",
        "    return df\n",
        "\n",
        "df = create_df()\n",
        "df"
      ]
    },
    {
      "cell_type": "code",
      "execution_count": null,
      "metadata": {
        "colab": {
          "base_uri": "https://localhost:8080/",
          "height": 206
        },
        "id": "DPJQnLcY6CSo",
        "outputId": "85be3a9e-c512-4afe-e00c-b78ca79f97e8"
      },
      "outputs": [
        {
          "output_type": "execute_result",
          "data": {
            "text/plain": [
              "       Pattern       Tag\n",
              "0           Hi  Greeting\n",
              "1     Hi there  Greeting\n",
              "2         Hola  Greeting\n",
              "3        Hello  Greeting\n",
              "4  Hello there  Greeting"
            ],
            "text/html": [
              "\n",
              "  <div id=\"df-9fe6fb38-7a0a-431a-a299-dca20f23be87\" class=\"colab-df-container\">\n",
              "    <div>\n",
              "<style scoped>\n",
              "    .dataframe tbody tr th:only-of-type {\n",
              "        vertical-align: middle;\n",
              "    }\n",
              "\n",
              "    .dataframe tbody tr th {\n",
              "        vertical-align: top;\n",
              "    }\n",
              "\n",
              "    .dataframe thead th {\n",
              "        text-align: right;\n",
              "    }\n",
              "</style>\n",
              "<table border=\"1\" class=\"dataframe\">\n",
              "  <thead>\n",
              "    <tr style=\"text-align: right;\">\n",
              "      <th></th>\n",
              "      <th>Pattern</th>\n",
              "      <th>Tag</th>\n",
              "    </tr>\n",
              "  </thead>\n",
              "  <tbody>\n",
              "    <tr>\n",
              "      <th>0</th>\n",
              "      <td>Hi</td>\n",
              "      <td>Greeting</td>\n",
              "    </tr>\n",
              "    <tr>\n",
              "      <th>1</th>\n",
              "      <td>Hi there</td>\n",
              "      <td>Greeting</td>\n",
              "    </tr>\n",
              "    <tr>\n",
              "      <th>2</th>\n",
              "      <td>Hola</td>\n",
              "      <td>Greeting</td>\n",
              "    </tr>\n",
              "    <tr>\n",
              "      <th>3</th>\n",
              "      <td>Hello</td>\n",
              "      <td>Greeting</td>\n",
              "    </tr>\n",
              "    <tr>\n",
              "      <th>4</th>\n",
              "      <td>Hello there</td>\n",
              "      <td>Greeting</td>\n",
              "    </tr>\n",
              "  </tbody>\n",
              "</table>\n",
              "</div>\n",
              "    <div class=\"colab-df-buttons\">\n",
              "\n",
              "  <div class=\"colab-df-container\">\n",
              "    <button class=\"colab-df-convert\" onclick=\"convertToInteractive('df-9fe6fb38-7a0a-431a-a299-dca20f23be87')\"\n",
              "            title=\"Convert this dataframe to an interactive table.\"\n",
              "            style=\"display:none;\">\n",
              "\n",
              "  <svg xmlns=\"http://www.w3.org/2000/svg\" height=\"24px\" viewBox=\"0 -960 960 960\">\n",
              "    <path d=\"M120-120v-720h720v720H120Zm60-500h600v-160H180v160Zm220 220h160v-160H400v160Zm0 220h160v-160H400v160ZM180-400h160v-160H180v160Zm440 0h160v-160H620v160ZM180-180h160v-160H180v160Zm440 0h160v-160H620v160Z\"/>\n",
              "  </svg>\n",
              "    </button>\n",
              "\n",
              "  <style>\n",
              "    .colab-df-container {\n",
              "      display:flex;\n",
              "      gap: 12px;\n",
              "    }\n",
              "\n",
              "    .colab-df-convert {\n",
              "      background-color: #E8F0FE;\n",
              "      border: none;\n",
              "      border-radius: 50%;\n",
              "      cursor: pointer;\n",
              "      display: none;\n",
              "      fill: #1967D2;\n",
              "      height: 32px;\n",
              "      padding: 0 0 0 0;\n",
              "      width: 32px;\n",
              "    }\n",
              "\n",
              "    .colab-df-convert:hover {\n",
              "      background-color: #E2EBFA;\n",
              "      box-shadow: 0px 1px 2px rgba(60, 64, 67, 0.3), 0px 1px 3px 1px rgba(60, 64, 67, 0.15);\n",
              "      fill: #174EA6;\n",
              "    }\n",
              "\n",
              "    .colab-df-buttons div {\n",
              "      margin-bottom: 4px;\n",
              "    }\n",
              "\n",
              "    [theme=dark] .colab-df-convert {\n",
              "      background-color: #3B4455;\n",
              "      fill: #D2E3FC;\n",
              "    }\n",
              "\n",
              "    [theme=dark] .colab-df-convert:hover {\n",
              "      background-color: #434B5C;\n",
              "      box-shadow: 0px 1px 3px 1px rgba(0, 0, 0, 0.15);\n",
              "      filter: drop-shadow(0px 1px 2px rgba(0, 0, 0, 0.3));\n",
              "      fill: #FFFFFF;\n",
              "    }\n",
              "  </style>\n",
              "\n",
              "    <script>\n",
              "      const buttonEl =\n",
              "        document.querySelector('#df-9fe6fb38-7a0a-431a-a299-dca20f23be87 button.colab-df-convert');\n",
              "      buttonEl.style.display =\n",
              "        google.colab.kernel.accessAllowed ? 'block' : 'none';\n",
              "\n",
              "      async function convertToInteractive(key) {\n",
              "        const element = document.querySelector('#df-9fe6fb38-7a0a-431a-a299-dca20f23be87');\n",
              "        const dataTable =\n",
              "          await google.colab.kernel.invokeFunction('convertToInteractive',\n",
              "                                                    [key], {});\n",
              "        if (!dataTable) return;\n",
              "\n",
              "        const docLinkHtml = 'Like what you see? Visit the ' +\n",
              "          '<a target=\"_blank\" href=https://colab.research.google.com/notebooks/data_table.ipynb>data table notebook</a>'\n",
              "          + ' to learn more about interactive tables.';\n",
              "        element.innerHTML = '';\n",
              "        dataTable['output_type'] = 'display_data';\n",
              "        await google.colab.output.renderOutput(dataTable, element);\n",
              "        const docLink = document.createElement('div');\n",
              "        docLink.innerHTML = docLinkHtml;\n",
              "        element.appendChild(docLink);\n",
              "      }\n",
              "    </script>\n",
              "  </div>\n",
              "\n",
              "\n",
              "<div id=\"df-c11c0ad1-09b7-4103-99a9-8e0675392932\">\n",
              "  <button class=\"colab-df-quickchart\" onclick=\"quickchart('df-c11c0ad1-09b7-4103-99a9-8e0675392932')\"\n",
              "            title=\"Suggest charts\"\n",
              "            style=\"display:none;\">\n",
              "\n",
              "<svg xmlns=\"http://www.w3.org/2000/svg\" height=\"24px\"viewBox=\"0 0 24 24\"\n",
              "     width=\"24px\">\n",
              "    <g>\n",
              "        <path d=\"M19 3H5c-1.1 0-2 .9-2 2v14c0 1.1.9 2 2 2h14c1.1 0 2-.9 2-2V5c0-1.1-.9-2-2-2zM9 17H7v-7h2v7zm4 0h-2V7h2v10zm4 0h-2v-4h2v4z\"/>\n",
              "    </g>\n",
              "</svg>\n",
              "  </button>\n",
              "\n",
              "<style>\n",
              "  .colab-df-quickchart {\n",
              "      --bg-color: #E8F0FE;\n",
              "      --fill-color: #1967D2;\n",
              "      --hover-bg-color: #E2EBFA;\n",
              "      --hover-fill-color: #174EA6;\n",
              "      --disabled-fill-color: #AAA;\n",
              "      --disabled-bg-color: #DDD;\n",
              "  }\n",
              "\n",
              "  [theme=dark] .colab-df-quickchart {\n",
              "      --bg-color: #3B4455;\n",
              "      --fill-color: #D2E3FC;\n",
              "      --hover-bg-color: #434B5C;\n",
              "      --hover-fill-color: #FFFFFF;\n",
              "      --disabled-bg-color: #3B4455;\n",
              "      --disabled-fill-color: #666;\n",
              "  }\n",
              "\n",
              "  .colab-df-quickchart {\n",
              "    background-color: var(--bg-color);\n",
              "    border: none;\n",
              "    border-radius: 50%;\n",
              "    cursor: pointer;\n",
              "    display: none;\n",
              "    fill: var(--fill-color);\n",
              "    height: 32px;\n",
              "    padding: 0;\n",
              "    width: 32px;\n",
              "  }\n",
              "\n",
              "  .colab-df-quickchart:hover {\n",
              "    background-color: var(--hover-bg-color);\n",
              "    box-shadow: 0 1px 2px rgba(60, 64, 67, 0.3), 0 1px 3px 1px rgba(60, 64, 67, 0.15);\n",
              "    fill: var(--button-hover-fill-color);\n",
              "  }\n",
              "\n",
              "  .colab-df-quickchart-complete:disabled,\n",
              "  .colab-df-quickchart-complete:disabled:hover {\n",
              "    background-color: var(--disabled-bg-color);\n",
              "    fill: var(--disabled-fill-color);\n",
              "    box-shadow: none;\n",
              "  }\n",
              "\n",
              "  .colab-df-spinner {\n",
              "    border: 2px solid var(--fill-color);\n",
              "    border-color: transparent;\n",
              "    border-bottom-color: var(--fill-color);\n",
              "    animation:\n",
              "      spin 1s steps(1) infinite;\n",
              "  }\n",
              "\n",
              "  @keyframes spin {\n",
              "    0% {\n",
              "      border-color: transparent;\n",
              "      border-bottom-color: var(--fill-color);\n",
              "      border-left-color: var(--fill-color);\n",
              "    }\n",
              "    20% {\n",
              "      border-color: transparent;\n",
              "      border-left-color: var(--fill-color);\n",
              "      border-top-color: var(--fill-color);\n",
              "    }\n",
              "    30% {\n",
              "      border-color: transparent;\n",
              "      border-left-color: var(--fill-color);\n",
              "      border-top-color: var(--fill-color);\n",
              "      border-right-color: var(--fill-color);\n",
              "    }\n",
              "    40% {\n",
              "      border-color: transparent;\n",
              "      border-right-color: var(--fill-color);\n",
              "      border-top-color: var(--fill-color);\n",
              "    }\n",
              "    60% {\n",
              "      border-color: transparent;\n",
              "      border-right-color: var(--fill-color);\n",
              "    }\n",
              "    80% {\n",
              "      border-color: transparent;\n",
              "      border-right-color: var(--fill-color);\n",
              "      border-bottom-color: var(--fill-color);\n",
              "    }\n",
              "    90% {\n",
              "      border-color: transparent;\n",
              "      border-bottom-color: var(--fill-color);\n",
              "    }\n",
              "  }\n",
              "</style>\n",
              "\n",
              "  <script>\n",
              "    async function quickchart(key) {\n",
              "      const quickchartButtonEl =\n",
              "        document.querySelector('#' + key + ' button');\n",
              "      quickchartButtonEl.disabled = true;  // To prevent multiple clicks.\n",
              "      quickchartButtonEl.classList.add('colab-df-spinner');\n",
              "      try {\n",
              "        const charts = await google.colab.kernel.invokeFunction(\n",
              "            'suggestCharts', [key], {});\n",
              "      } catch (error) {\n",
              "        console.error('Error during call to suggestCharts:', error);\n",
              "      }\n",
              "      quickchartButtonEl.classList.remove('colab-df-spinner');\n",
              "      quickchartButtonEl.classList.add('colab-df-quickchart-complete');\n",
              "    }\n",
              "    (() => {\n",
              "      let quickchartButtonEl =\n",
              "        document.querySelector('#df-c11c0ad1-09b7-4103-99a9-8e0675392932 button');\n",
              "      quickchartButtonEl.style.display =\n",
              "        google.colab.kernel.accessAllowed ? 'block' : 'none';\n",
              "    })();\n",
              "  </script>\n",
              "</div>\n",
              "    </div>\n",
              "  </div>\n"
            ],
            "application/vnd.google.colaboratory.intrinsic+json": {
              "type": "dataframe",
              "variable_name": "df",
              "summary": "{\n  \"name\": \"df\",\n  \"rows\": 143,\n  \"fields\": [\n    {\n      \"column\": \"Pattern\",\n      \"properties\": {\n        \"dtype\": \"string\",\n        \"num_unique_values\": 142,\n        \"samples\": [\n          \"Why will you not open the pod bay door\",\n          \"How are you doing?\",\n          \"Shhh\"\n        ],\n        \"semantic_type\": \"\",\n        \"description\": \"\"\n      }\n    },\n    {\n      \"column\": \"Tag\",\n      \"properties\": {\n        \"dtype\": \"category\",\n        \"num_unique_values\": 22,\n        \"samples\": [\n          \"Greeting\",\n          \"GoodBye\",\n          \"Thanks\"\n        ],\n        \"semantic_type\": \"\",\n        \"description\": \"\"\n      }\n    }\n  ]\n}"
            }
          },
          "metadata": {},
          "execution_count": 116
        }
      ],
      "source": [
        "def extract_json_info(json_file, df):\n",
        "\n",
        "    for intent in json_file['intents']:\n",
        "\n",
        "        for pattern in intent['patterns']:\n",
        "            # Création d'une liste contenant le pattern et l'étiquette de l'intention\n",
        "            sentence_tag = [pattern, intent['tag']]\n",
        "            # Ajout de la liste en tant que nouvelle ligne dans le DataFrame\n",
        "            df.loc[len(df.index)] = sentence_tag\n",
        "\n",
        "    # Retour du DataFrame mis à jour avec les informations extraites\n",
        "    return df\n",
        "\n",
        "# Appel de la fonction extract_json_info avec les données JSON et un DataFrame vide\n",
        "df = extract_json_info(intents, df)\n",
        "df.head()\n",
        "\n"
      ]
    },
    {
      "cell_type": "markdown",
      "source": [
        "\n",
        "### **2.3 Vérification de la forme de l'ensemble de données**"
      ],
      "metadata": {
        "id": "lWDvUw9loCMA"
      }
    },
    {
      "cell_type": "code",
      "execution_count": null,
      "metadata": {
        "colab": {
          "base_uri": "https://localhost:8080/"
        },
        "id": "TQDXWfDN6Jac",
        "outputId": "0d44d7fc-74d2-4109-e4d0-7ebbb4abd156"
      },
      "outputs": [
        {
          "output_type": "stream",
          "name": "stdout",
          "text": [
            "Chatbot dataset has 143 rows and 2 columns\n"
          ]
        }
      ],
      "source": [
        "def print_shape_df(df, ds_name=\"df\"):\n",
        "    print(f\"{ds_name} dataset has {df.shape[0]} rows and {df.shape[1]} columns\")\n",
        "\n",
        "print_shape_df(df, \"Chatbot\")"
      ]
    },
    {
      "cell_type": "markdown",
      "source": [
        "### **2.4 Afficher des informations sur l'ensemble de données**"
      ],
      "metadata": {
        "id": "yzjDa3eOok_w"
      }
    },
    {
      "cell_type": "code",
      "execution_count": null,
      "metadata": {
        "colab": {
          "base_uri": "https://localhost:8080/"
        },
        "id": "IGvKcNNP6NeN",
        "outputId": "1d36b8e5-4858-41c8-eb64-4fcf2acee91a"
      },
      "outputs": [
        {
          "output_type": "stream",
          "name": "stdout",
          "text": [
            "The info of Chatbot dataset\n",
            "\n",
            "<class 'pandas.core.frame.DataFrame'>\n",
            "Index: 143 entries, 0 to 142\n",
            "Data columns (total 2 columns):\n",
            " #   Column   Non-Null Count  Dtype \n",
            "---  ------   --------------  ----- \n",
            " 0   Pattern  143 non-null    object\n",
            " 1   Tag      143 non-null    object\n",
            "dtypes: object(2)\n",
            "memory usage: 3.4+ KB\n",
            "None\n"
          ]
        }
      ],
      "source": [
        "def print_dfInfo(df, ds_name=\"df\"):\n",
        "    print(f\"The info of {ds_name} dataset\\n\")\n",
        "    print(df.info())\n",
        "\n",
        "print_dfInfo(df, \"Chatbot\")"
      ]
    },
    {
      "cell_type": "markdown",
      "source": [
        "### **2.5 Afficher le nombre de classes**"
      ],
      "metadata": {
        "id": "FjF-8Xv1pP9I"
      }
    },
    {
      "cell_type": "code",
      "execution_count": null,
      "metadata": {
        "colab": {
          "base_uri": "https://localhost:8080/"
        },
        "id": "xfOYpsmZ6SYD",
        "outputId": "eb4fc65f-024e-4a7e-d5c8-d5a377fb2f4f"
      },
      "outputs": [
        {
          "output_type": "stream",
          "name": "stdout",
          "text": [
            "The Chatbot dataset has 22 classes\n"
          ]
        }
      ],
      "source": [
        "def num_classes(df, target_col, ds_name=\"df\"):\n",
        "    print(f\"The {ds_name} dataset has {len(df[target_col].unique())} classes\")\n",
        "\n",
        "num_classes(df, 'Tag', \"Chatbot\")"
      ]
    },
    {
      "cell_type": "markdown",
      "source": [
        "### **2.6 Vérifiez les valeurs nulles dans l'ensemble de données**"
      ],
      "metadata": {
        "id": "e8bPpIZqpsWg"
      }
    },
    {
      "cell_type": "code",
      "execution_count": null,
      "metadata": {
        "colab": {
          "base_uri": "https://localhost:8080/"
        },
        "id": "J7E7LqNM6Vhr",
        "outputId": "d494118e-0f21-42e6-ba0c-e3546ef01a12"
      },
      "outputs": [
        {
          "output_type": "stream",
          "name": "stdout",
          "text": [
            "Null Values in each col in the Chatbot dataset:\n",
            "\n",
            "Pattern    0\n",
            "Tag        0\n",
            "dtype: int64\n"
          ]
        }
      ],
      "source": [
        "def check_null(df, ds_name='df'):\n",
        "    print(f\"Null Values in each col in the {ds_name} dataset:\\n\")\n",
        "    print(df.isnull().sum())\n",
        "\n",
        "check_null(df, \"Chatbot\")"
      ]
    },
    {
      "cell_type": "markdown",
      "source": [
        "# **3. Prétraitement des données**"
      ],
      "metadata": {
        "id": "Clf9ch7OvDXX"
      }
    },
    {
      "cell_type": "code",
      "execution_count": null,
      "metadata": {
        "colab": {
          "base_uri": "https://localhost:8080/"
        },
        "id": "rWiMAYoC9NdH",
        "outputId": "8b030007-3038-415a-b613-8c84737cb213"
      },
      "outputs": [
        {
          "output_type": "execute_result",
          "data": {
            "text/plain": [
              "['Greeting',\n",
              " 'GreetingResponse',\n",
              " 'CourtesyGreeting',\n",
              " 'CourtesyGreetingResponse',\n",
              " 'CurrentHumanQuery',\n",
              " 'NameQuery',\n",
              " 'RealNameQuery',\n",
              " 'TimeQuery',\n",
              " 'Thanks',\n",
              " 'NotTalking2U',\n",
              " 'UnderstandQuery',\n",
              " 'Shutup',\n",
              " 'Swearing',\n",
              " 'GoodBye',\n",
              " 'CourtesyGoodBye',\n",
              " 'WhoAmI',\n",
              " 'Clever',\n",
              " 'Gossip',\n",
              " 'Jokes',\n",
              " 'PodBayDoor',\n",
              " 'PodBayDoorResponse',\n",
              " 'SelfAware']"
            ]
          },
          "metadata": {},
          "execution_count": 121
        }
      ],
      "source": [
        "labels = df['Tag'].unique().tolist()\n",
        "labels = [s.strip() for s in labels]\n",
        "labels"
      ]
    },
    {
      "cell_type": "code",
      "execution_count": null,
      "metadata": {
        "id": "kxHofY3K9Qrv"
      },
      "outputs": [],
      "source": [
        "#  le nombre de labels dans la liste\n",
        "num_labels = len(labels)\n",
        "\n",
        "\n",
        "#  dictionnaire pour mapper les IDs aux libellés\n",
        "id2label = {id: label for id, label in enumerate(labels)}\n",
        "\n",
        "#  dictionnaire pour mapper les libellés aux IDs\n",
        "label2id = {label: id for id, label in enumerate(labels)}\n"
      ]
    },
    {
      "cell_type": "code",
      "execution_count": null,
      "metadata": {
        "colab": {
          "base_uri": "https://localhost:8080/"
        },
        "id": "kQztUXYB9SBt",
        "outputId": "9962de0a-3663-45db-885f-3eca0625d349"
      },
      "outputs": [
        {
          "output_type": "execute_result",
          "data": {
            "text/plain": [
              "{0: 'Greeting',\n",
              " 1: 'GreetingResponse',\n",
              " 2: 'CourtesyGreeting',\n",
              " 3: 'CourtesyGreetingResponse',\n",
              " 4: 'CurrentHumanQuery',\n",
              " 5: 'NameQuery',\n",
              " 6: 'RealNameQuery',\n",
              " 7: 'TimeQuery',\n",
              " 8: 'Thanks',\n",
              " 9: 'NotTalking2U',\n",
              " 10: 'UnderstandQuery',\n",
              " 11: 'Shutup',\n",
              " 12: 'Swearing',\n",
              " 13: 'GoodBye',\n",
              " 14: 'CourtesyGoodBye',\n",
              " 15: 'WhoAmI',\n",
              " 16: 'Clever',\n",
              " 17: 'Gossip',\n",
              " 18: 'Jokes',\n",
              " 19: 'PodBayDoor',\n",
              " 20: 'PodBayDoorResponse',\n",
              " 21: 'SelfAware'}"
            ]
          },
          "metadata": {},
          "execution_count": 123
        }
      ],
      "source": [
        "id2label"
      ]
    },
    {
      "cell_type": "code",
      "execution_count": null,
      "metadata": {
        "colab": {
          "base_uri": "https://localhost:8080/"
        },
        "id": "tmTvN8_L9WPi",
        "outputId": "cd6ac2bd-39fc-441b-f762-63f26b15c68f"
      },
      "outputs": [
        {
          "output_type": "execute_result",
          "data": {
            "text/plain": [
              "{'Greeting': 0,\n",
              " 'GreetingResponse': 1,\n",
              " 'CourtesyGreeting': 2,\n",
              " 'CourtesyGreetingResponse': 3,\n",
              " 'CurrentHumanQuery': 4,\n",
              " 'NameQuery': 5,\n",
              " 'RealNameQuery': 6,\n",
              " 'TimeQuery': 7,\n",
              " 'Thanks': 8,\n",
              " 'NotTalking2U': 9,\n",
              " 'UnderstandQuery': 10,\n",
              " 'Shutup': 11,\n",
              " 'Swearing': 12,\n",
              " 'GoodBye': 13,\n",
              " 'CourtesyGoodBye': 14,\n",
              " 'WhoAmI': 15,\n",
              " 'Clever': 16,\n",
              " 'Gossip': 17,\n",
              " 'Jokes': 18,\n",
              " 'PodBayDoor': 19,\n",
              " 'PodBayDoorResponse': 20,\n",
              " 'SelfAware': 21}"
            ]
          },
          "metadata": {},
          "execution_count": 124
        }
      ],
      "source": [
        "label2id"
      ]
    },
    {
      "cell_type": "code",
      "execution_count": null,
      "metadata": {
        "colab": {
          "base_uri": "https://localhost:8080/",
          "height": 520
        },
        "id": "7jDr24dL9Y20",
        "outputId": "4659c6b4-d7ef-4a61-98f1-b82a1aa58b3e"
      },
      "outputs": [
        {
          "output_type": "execute_result",
          "data": {
            "text/plain": [
              "             Pattern               Tag  labels\n",
              "0                 Hi          Greeting       0\n",
              "1           Hi there          Greeting       0\n",
              "2               Hola          Greeting       0\n",
              "3              Hello          Greeting       0\n",
              "4        Hello there          Greeting       0\n",
              "5                Hya          Greeting       0\n",
              "6          Hya there          Greeting       0\n",
              "7    My user is Adam  GreetingResponse       1\n",
              "8       This is Adam  GreetingResponse       1\n",
              "9          I am Adam  GreetingResponse       1\n",
              "10        It is Adam  GreetingResponse       1\n",
              "11  My user is Bella  GreetingResponse       1\n",
              "12     This is Bella  GreetingResponse       1\n",
              "13        I am Bella  GreetingResponse       1\n",
              "14       It is Bella  GreetingResponse       1"
            ],
            "text/html": [
              "\n",
              "  <div id=\"df-1e217814-54bb-4e12-a222-73f04a71ad5e\" class=\"colab-df-container\">\n",
              "    <div>\n",
              "<style scoped>\n",
              "    .dataframe tbody tr th:only-of-type {\n",
              "        vertical-align: middle;\n",
              "    }\n",
              "\n",
              "    .dataframe tbody tr th {\n",
              "        vertical-align: top;\n",
              "    }\n",
              "\n",
              "    .dataframe thead th {\n",
              "        text-align: right;\n",
              "    }\n",
              "</style>\n",
              "<table border=\"1\" class=\"dataframe\">\n",
              "  <thead>\n",
              "    <tr style=\"text-align: right;\">\n",
              "      <th></th>\n",
              "      <th>Pattern</th>\n",
              "      <th>Tag</th>\n",
              "      <th>labels</th>\n",
              "    </tr>\n",
              "  </thead>\n",
              "  <tbody>\n",
              "    <tr>\n",
              "      <th>0</th>\n",
              "      <td>Hi</td>\n",
              "      <td>Greeting</td>\n",
              "      <td>0</td>\n",
              "    </tr>\n",
              "    <tr>\n",
              "      <th>1</th>\n",
              "      <td>Hi there</td>\n",
              "      <td>Greeting</td>\n",
              "      <td>0</td>\n",
              "    </tr>\n",
              "    <tr>\n",
              "      <th>2</th>\n",
              "      <td>Hola</td>\n",
              "      <td>Greeting</td>\n",
              "      <td>0</td>\n",
              "    </tr>\n",
              "    <tr>\n",
              "      <th>3</th>\n",
              "      <td>Hello</td>\n",
              "      <td>Greeting</td>\n",
              "      <td>0</td>\n",
              "    </tr>\n",
              "    <tr>\n",
              "      <th>4</th>\n",
              "      <td>Hello there</td>\n",
              "      <td>Greeting</td>\n",
              "      <td>0</td>\n",
              "    </tr>\n",
              "    <tr>\n",
              "      <th>5</th>\n",
              "      <td>Hya</td>\n",
              "      <td>Greeting</td>\n",
              "      <td>0</td>\n",
              "    </tr>\n",
              "    <tr>\n",
              "      <th>6</th>\n",
              "      <td>Hya there</td>\n",
              "      <td>Greeting</td>\n",
              "      <td>0</td>\n",
              "    </tr>\n",
              "    <tr>\n",
              "      <th>7</th>\n",
              "      <td>My user is Adam</td>\n",
              "      <td>GreetingResponse</td>\n",
              "      <td>1</td>\n",
              "    </tr>\n",
              "    <tr>\n",
              "      <th>8</th>\n",
              "      <td>This is Adam</td>\n",
              "      <td>GreetingResponse</td>\n",
              "      <td>1</td>\n",
              "    </tr>\n",
              "    <tr>\n",
              "      <th>9</th>\n",
              "      <td>I am Adam</td>\n",
              "      <td>GreetingResponse</td>\n",
              "      <td>1</td>\n",
              "    </tr>\n",
              "    <tr>\n",
              "      <th>10</th>\n",
              "      <td>It is Adam</td>\n",
              "      <td>GreetingResponse</td>\n",
              "      <td>1</td>\n",
              "    </tr>\n",
              "    <tr>\n",
              "      <th>11</th>\n",
              "      <td>My user is Bella</td>\n",
              "      <td>GreetingResponse</td>\n",
              "      <td>1</td>\n",
              "    </tr>\n",
              "    <tr>\n",
              "      <th>12</th>\n",
              "      <td>This is Bella</td>\n",
              "      <td>GreetingResponse</td>\n",
              "      <td>1</td>\n",
              "    </tr>\n",
              "    <tr>\n",
              "      <th>13</th>\n",
              "      <td>I am Bella</td>\n",
              "      <td>GreetingResponse</td>\n",
              "      <td>1</td>\n",
              "    </tr>\n",
              "    <tr>\n",
              "      <th>14</th>\n",
              "      <td>It is Bella</td>\n",
              "      <td>GreetingResponse</td>\n",
              "      <td>1</td>\n",
              "    </tr>\n",
              "  </tbody>\n",
              "</table>\n",
              "</div>\n",
              "    <div class=\"colab-df-buttons\">\n",
              "\n",
              "  <div class=\"colab-df-container\">\n",
              "    <button class=\"colab-df-convert\" onclick=\"convertToInteractive('df-1e217814-54bb-4e12-a222-73f04a71ad5e')\"\n",
              "            title=\"Convert this dataframe to an interactive table.\"\n",
              "            style=\"display:none;\">\n",
              "\n",
              "  <svg xmlns=\"http://www.w3.org/2000/svg\" height=\"24px\" viewBox=\"0 -960 960 960\">\n",
              "    <path d=\"M120-120v-720h720v720H120Zm60-500h600v-160H180v160Zm220 220h160v-160H400v160Zm0 220h160v-160H400v160ZM180-400h160v-160H180v160Zm440 0h160v-160H620v160ZM180-180h160v-160H180v160Zm440 0h160v-160H620v160Z\"/>\n",
              "  </svg>\n",
              "    </button>\n",
              "\n",
              "  <style>\n",
              "    .colab-df-container {\n",
              "      display:flex;\n",
              "      gap: 12px;\n",
              "    }\n",
              "\n",
              "    .colab-df-convert {\n",
              "      background-color: #E8F0FE;\n",
              "      border: none;\n",
              "      border-radius: 50%;\n",
              "      cursor: pointer;\n",
              "      display: none;\n",
              "      fill: #1967D2;\n",
              "      height: 32px;\n",
              "      padding: 0 0 0 0;\n",
              "      width: 32px;\n",
              "    }\n",
              "\n",
              "    .colab-df-convert:hover {\n",
              "      background-color: #E2EBFA;\n",
              "      box-shadow: 0px 1px 2px rgba(60, 64, 67, 0.3), 0px 1px 3px 1px rgba(60, 64, 67, 0.15);\n",
              "      fill: #174EA6;\n",
              "    }\n",
              "\n",
              "    .colab-df-buttons div {\n",
              "      margin-bottom: 4px;\n",
              "    }\n",
              "\n",
              "    [theme=dark] .colab-df-convert {\n",
              "      background-color: #3B4455;\n",
              "      fill: #D2E3FC;\n",
              "    }\n",
              "\n",
              "    [theme=dark] .colab-df-convert:hover {\n",
              "      background-color: #434B5C;\n",
              "      box-shadow: 0px 1px 3px 1px rgba(0, 0, 0, 0.15);\n",
              "      filter: drop-shadow(0px 1px 2px rgba(0, 0, 0, 0.3));\n",
              "      fill: #FFFFFF;\n",
              "    }\n",
              "  </style>\n",
              "\n",
              "    <script>\n",
              "      const buttonEl =\n",
              "        document.querySelector('#df-1e217814-54bb-4e12-a222-73f04a71ad5e button.colab-df-convert');\n",
              "      buttonEl.style.display =\n",
              "        google.colab.kernel.accessAllowed ? 'block' : 'none';\n",
              "\n",
              "      async function convertToInteractive(key) {\n",
              "        const element = document.querySelector('#df-1e217814-54bb-4e12-a222-73f04a71ad5e');\n",
              "        const dataTable =\n",
              "          await google.colab.kernel.invokeFunction('convertToInteractive',\n",
              "                                                    [key], {});\n",
              "        if (!dataTable) return;\n",
              "\n",
              "        const docLinkHtml = 'Like what you see? Visit the ' +\n",
              "          '<a target=\"_blank\" href=https://colab.research.google.com/notebooks/data_table.ipynb>data table notebook</a>'\n",
              "          + ' to learn more about interactive tables.';\n",
              "        element.innerHTML = '';\n",
              "        dataTable['output_type'] = 'display_data';\n",
              "        await google.colab.output.renderOutput(dataTable, element);\n",
              "        const docLink = document.createElement('div');\n",
              "        docLink.innerHTML = docLinkHtml;\n",
              "        element.appendChild(docLink);\n",
              "      }\n",
              "    </script>\n",
              "  </div>\n",
              "\n",
              "\n",
              "<div id=\"df-e53aa836-5912-4739-89c0-df9d0523fc3c\">\n",
              "  <button class=\"colab-df-quickchart\" onclick=\"quickchart('df-e53aa836-5912-4739-89c0-df9d0523fc3c')\"\n",
              "            title=\"Suggest charts\"\n",
              "            style=\"display:none;\">\n",
              "\n",
              "<svg xmlns=\"http://www.w3.org/2000/svg\" height=\"24px\"viewBox=\"0 0 24 24\"\n",
              "     width=\"24px\">\n",
              "    <g>\n",
              "        <path d=\"M19 3H5c-1.1 0-2 .9-2 2v14c0 1.1.9 2 2 2h14c1.1 0 2-.9 2-2V5c0-1.1-.9-2-2-2zM9 17H7v-7h2v7zm4 0h-2V7h2v10zm4 0h-2v-4h2v4z\"/>\n",
              "    </g>\n",
              "</svg>\n",
              "  </button>\n",
              "\n",
              "<style>\n",
              "  .colab-df-quickchart {\n",
              "      --bg-color: #E8F0FE;\n",
              "      --fill-color: #1967D2;\n",
              "      --hover-bg-color: #E2EBFA;\n",
              "      --hover-fill-color: #174EA6;\n",
              "      --disabled-fill-color: #AAA;\n",
              "      --disabled-bg-color: #DDD;\n",
              "  }\n",
              "\n",
              "  [theme=dark] .colab-df-quickchart {\n",
              "      --bg-color: #3B4455;\n",
              "      --fill-color: #D2E3FC;\n",
              "      --hover-bg-color: #434B5C;\n",
              "      --hover-fill-color: #FFFFFF;\n",
              "      --disabled-bg-color: #3B4455;\n",
              "      --disabled-fill-color: #666;\n",
              "  }\n",
              "\n",
              "  .colab-df-quickchart {\n",
              "    background-color: var(--bg-color);\n",
              "    border: none;\n",
              "    border-radius: 50%;\n",
              "    cursor: pointer;\n",
              "    display: none;\n",
              "    fill: var(--fill-color);\n",
              "    height: 32px;\n",
              "    padding: 0;\n",
              "    width: 32px;\n",
              "  }\n",
              "\n",
              "  .colab-df-quickchart:hover {\n",
              "    background-color: var(--hover-bg-color);\n",
              "    box-shadow: 0 1px 2px rgba(60, 64, 67, 0.3), 0 1px 3px 1px rgba(60, 64, 67, 0.15);\n",
              "    fill: var(--button-hover-fill-color);\n",
              "  }\n",
              "\n",
              "  .colab-df-quickchart-complete:disabled,\n",
              "  .colab-df-quickchart-complete:disabled:hover {\n",
              "    background-color: var(--disabled-bg-color);\n",
              "    fill: var(--disabled-fill-color);\n",
              "    box-shadow: none;\n",
              "  }\n",
              "\n",
              "  .colab-df-spinner {\n",
              "    border: 2px solid var(--fill-color);\n",
              "    border-color: transparent;\n",
              "    border-bottom-color: var(--fill-color);\n",
              "    animation:\n",
              "      spin 1s steps(1) infinite;\n",
              "  }\n",
              "\n",
              "  @keyframes spin {\n",
              "    0% {\n",
              "      border-color: transparent;\n",
              "      border-bottom-color: var(--fill-color);\n",
              "      border-left-color: var(--fill-color);\n",
              "    }\n",
              "    20% {\n",
              "      border-color: transparent;\n",
              "      border-left-color: var(--fill-color);\n",
              "      border-top-color: var(--fill-color);\n",
              "    }\n",
              "    30% {\n",
              "      border-color: transparent;\n",
              "      border-left-color: var(--fill-color);\n",
              "      border-top-color: var(--fill-color);\n",
              "      border-right-color: var(--fill-color);\n",
              "    }\n",
              "    40% {\n",
              "      border-color: transparent;\n",
              "      border-right-color: var(--fill-color);\n",
              "      border-top-color: var(--fill-color);\n",
              "    }\n",
              "    60% {\n",
              "      border-color: transparent;\n",
              "      border-right-color: var(--fill-color);\n",
              "    }\n",
              "    80% {\n",
              "      border-color: transparent;\n",
              "      border-right-color: var(--fill-color);\n",
              "      border-bottom-color: var(--fill-color);\n",
              "    }\n",
              "    90% {\n",
              "      border-color: transparent;\n",
              "      border-bottom-color: var(--fill-color);\n",
              "    }\n",
              "  }\n",
              "</style>\n",
              "\n",
              "  <script>\n",
              "    async function quickchart(key) {\n",
              "      const quickchartButtonEl =\n",
              "        document.querySelector('#' + key + ' button');\n",
              "      quickchartButtonEl.disabled = true;  // To prevent multiple clicks.\n",
              "      quickchartButtonEl.classList.add('colab-df-spinner');\n",
              "      try {\n",
              "        const charts = await google.colab.kernel.invokeFunction(\n",
              "            'suggestCharts', [key], {});\n",
              "      } catch (error) {\n",
              "        console.error('Error during call to suggestCharts:', error);\n",
              "      }\n",
              "      quickchartButtonEl.classList.remove('colab-df-spinner');\n",
              "      quickchartButtonEl.classList.add('colab-df-quickchart-complete');\n",
              "    }\n",
              "    (() => {\n",
              "      let quickchartButtonEl =\n",
              "        document.querySelector('#df-e53aa836-5912-4739-89c0-df9d0523fc3c button');\n",
              "      quickchartButtonEl.style.display =\n",
              "        google.colab.kernel.accessAllowed ? 'block' : 'none';\n",
              "    })();\n",
              "  </script>\n",
              "</div>\n",
              "    </div>\n",
              "  </div>\n"
            ],
            "application/vnd.google.colaboratory.intrinsic+json": {
              "type": "dataframe",
              "variable_name": "df",
              "summary": "{\n  \"name\": \"df\",\n  \"rows\": 143,\n  \"fields\": [\n    {\n      \"column\": \"Pattern\",\n      \"properties\": {\n        \"dtype\": \"string\",\n        \"num_unique_values\": 142,\n        \"samples\": [\n          \"Why will you not open the pod bay door\",\n          \"How are you doing?\",\n          \"Shhh\"\n        ],\n        \"semantic_type\": \"\",\n        \"description\": \"\"\n      }\n    },\n    {\n      \"column\": \"Tag\",\n      \"properties\": {\n        \"dtype\": \"category\",\n        \"num_unique_values\": 22,\n        \"samples\": [\n          \"Greeting\",\n          \"GoodBye\",\n          \"Thanks\"\n        ],\n        \"semantic_type\": \"\",\n        \"description\": \"\"\n      }\n    },\n    {\n      \"column\": \"labels\",\n      \"properties\": {\n        \"dtype\": \"number\",\n        \"std\": 6,\n        \"min\": 0,\n        \"max\": 21,\n        \"num_unique_values\": 22,\n        \"samples\": [\n          0,\n          13,\n          8\n        ],\n        \"semantic_type\": \"\",\n        \"description\": \"\"\n      }\n    }\n  ]\n}"
            }
          },
          "metadata": {},
          "execution_count": 125
        }
      ],
      "source": [
        "#utilisation la méthode map avec une fonction lambda pour mapper chaque libellé de la colonne 'Tag'\n",
        "# à son identifiant correspondant à l'aide du dictionnaire 'label2id'\n",
        "df['labels'] = df['Tag'].map(lambda x: label2id[x.strip()])\n",
        "df.head(15)"
      ]
    },
    {
      "cell_type": "markdown",
      "source": [
        "# **4. Divisez les données en entrainement et en test**"
      ],
      "metadata": {
        "id": "bwGJVFB2vhsL"
      }
    },
    {
      "cell_type": "code",
      "execution_count": null,
      "metadata": {
        "colab": {
          "base_uri": "https://localhost:8080/"
        },
        "id": "QOQjAvzV9bpV",
        "outputId": "2cf6333e-ef5f-4977-ff80-ac7384c9b12e"
      },
      "outputs": [
        {
          "output_type": "execute_result",
          "data": {
            "text/plain": [
              "['Hi',\n",
              " 'Hi there',\n",
              " 'Hola',\n",
              " 'Hello',\n",
              " 'Hello there',\n",
              " 'Hya',\n",
              " 'Hya there',\n",
              " 'My user is Adam',\n",
              " 'This is Adam',\n",
              " 'I am Adam']"
            ]
          },
          "metadata": {},
          "execution_count": 126
        }
      ],
      "source": [
        "#X : Données textuelles à utiliser pour l'entrainement du modèle\n",
        "X = list(df['Pattern'])\n",
        "X[:10]"
      ]
    },
    {
      "cell_type": "code",
      "execution_count": null,
      "metadata": {
        "colab": {
          "base_uri": "https://localhost:8080/"
        },
        "id": "e3t2eO4g9d6m",
        "outputId": "8d821aa5-04d5-4aa0-94ed-8e37ef1d6db1"
      },
      "outputs": [
        {
          "output_type": "execute_result",
          "data": {
            "text/plain": [
              "[0, 0, 0, 0, 0, 0, 0, 1, 1, 1]"
            ]
          },
          "metadata": {},
          "execution_count": 127
        }
      ],
      "source": [
        "# y : Étiquettes ou cibles correspondant aux données dans X\n",
        "y = list(df['labels'])\n",
        "y[:10]"
      ]
    },
    {
      "cell_type": "code",
      "execution_count": null,
      "metadata": {
        "id": "gwGaCySk9gT4"
      },
      "outputs": [],
      "source": [
        "# Diviser les données en ensembles de formation et de test\n",
        "# random_state=123 : Utilisé pour assurer la reproductibilité de la division aléatoire\n",
        "# fonction fournie par la bibliothèque Scikit-Learn divise les données en  (X_train et y_train) et de test (X_test et y_test).\n",
        "X_train, X_test, y_train, y_test = train_test_split(X, y, random_state=123)\n",
        "\n",
        "#X_train : Les données d'entraînement, c'est-à-dire les textes utilisés pour former le modèle.\n",
        "#X_test : Les données de test, c'est-à-dire les textes utilisés pour évaluer les performances du modèle après la formation.\n",
        "#y_train : Les étiquettes correspondant aux données d'entraînement.\n",
        "#y_test : Les étiquettes correspondant aux données de test.\n"
      ]
    },
    {
      "cell_type": "markdown",
      "source": [
        "# **5. Chargement du modèle pré-entraîné BERT et le Tokenizer**"
      ],
      "metadata": {
        "id": "HHlcUT9iwEnE"
      }
    },
    {
      "cell_type": "code",
      "execution_count": null,
      "metadata": {
        "colab": {
          "base_uri": "https://localhost:8080/"
        },
        "id": "hNlMaXAm9hl2",
        "outputId": "95f43c1c-d1a2-400d-e3b2-f02e4a8f1903"
      },
      "outputs": [
        {
          "output_type": "stream",
          "name": "stderr",
          "text": [
            "Some weights of BertForSequenceClassification were not initialized from the model checkpoint at bert-base-uncased and are newly initialized: ['classifier.bias', 'classifier.weight']\n",
            "You should probably TRAIN this model on a down-stream task to be able to use it for predictions and inference.\n"
          ]
        }
      ],
      "source": [
        "# Spécifier le nom du modèle BERT à utiliser\n",
        "model_name = \"bert-base-uncased\" # C'est le modèle de base de BERT sans distinction entre majuscules et minuscules et sans ajout de caractères spéciaux\n",
        "\n",
        "# Définir la longueur maximale des séquences à traiter\n",
        "max_len = 256\n",
        "\n",
        "# Charger le tokenizer associé au modèle BERT avec la longueur maximale spécifiée\n",
        "tokenizer = BertTokenizer.from_pretrained(model_name, max_length=max_len)\n",
        "\n",
        "# Charger le modèle BERT pré-entraîné pour la classification de séquences\n",
        "model = BertForSequenceClassification.from_pretrained(\n",
        "    model_name,\n",
        "    num_labels=num_labels,  # Nombre de classes à prédire dans la tâche de classification\n",
        "    id2label=id2label,      # Correspondance d'index à étiquette pour décrire les prédictions\n",
        "    label2id=label2id       # Correspondance d'étiquette à index pour convertir les étiquettes en indices\n",
        ")\n"
      ]
    },
    {
      "cell_type": "markdown",
      "source": [
        "# **6.Transformer les données au format numérique**"
      ],
      "metadata": {
        "id": "mIzIoFD9wSsP"
      }
    },
    {
      "cell_type": "code",
      "execution_count": null,
      "metadata": {
        "id": "3-OPjmhR96cU"
      },
      "outputs": [],
      "source": [
        "# Utilisation du tokenizer pour encoder les données d'entraînement et de test\n",
        "# Tronquer les séquences qui dépassent la longueur maximale  et ajouter du padding aux séquences plus courtes\n",
        "train_encoding = tokenizer(X_train, truncation=True, padding=True)\n",
        "test_encoding = tokenizer(X_test, truncation=True, padding=True)\n"
      ]
    },
    {
      "cell_type": "code",
      "execution_count": null,
      "metadata": {
        "id": "29Gs5OgW983w"
      },
      "outputs": [],
      "source": [
        "# Utilisation du tokenizer pour traiter toutes les séquences de texte dans la liste X\n",
        "# Tronquer les séquences de texte qui dépassent la longueur maximale autorisée et ajouter du padding si nécessaire\n",
        "full_data = tokenizer(X, truncation=True, padding=True)\n"
      ]
    },
    {
      "cell_type": "markdown",
      "source": [
        "# **7.Construire un chargeur de données**"
      ],
      "metadata": {
        "id": "QXUW6S6nweNk"
      }
    },
    {
      "cell_type": "code",
      "execution_count": null,
      "metadata": {
        "id": "7T14RoRn-AZX"
      },
      "outputs": [],
      "source": [
        "#classe DataLoader qui hérite de Dataset de PyTorch. Elle est utilisée pour manipuler les données encodées et leurs étiquettes associées\n",
        "#pour l'entrainement du modéle\n",
        "class DataLoader(Dataset):\n",
        "    # Constructeur de la classe DataLoader\n",
        "    def __init__(self, encodings, labels):\n",
        "        # Initialise les attributs encodings et labels de l'instance avec les données fournies\n",
        "        self.encodings = encodings\n",
        "        self.labels = labels\n",
        "\n",
        "    # Méthode spéciale pour accéder à un élément de l'ensemble de données par indice\n",
        "    def __getitem__(self, idx):\n",
        "        # Crée un dictionnaire contenant les données encodées pour l'élément à l'indice idx\n",
        "        item = {key: torch.tensor(val[idx]) for key, val in self.encodings.items()}\n",
        "        # Ajoute les étiquettes associées à cet élément dans le dictionnaire\n",
        "        item['labels'] = torch.tensor(self.labels[idx])\n",
        "        return item\n",
        "\n",
        "    # Méthode  pour obtenir la longueur totale de l'ensemble de données\n",
        "    def __len__(self):\n",
        "        # Renvoie le nombre d'éléments dans l'ensemble de données, qui est égal au nombre de labels\n",
        "        return len(self.labels)\n"
      ]
    },
    {
      "cell_type": "code",
      "execution_count": null,
      "metadata": {
        "id": "mAMhLeCV-C7L"
      },
      "outputs": [],
      "source": [
        "# création de 2 instances de la classe DataLoader\n",
        "train_dataloader = DataLoader(train_encoding, y_train)\n",
        "test_dataloader = DataLoader(test_encoding, y_test)"
      ]
    },
    {
      "cell_type": "code",
      "execution_count": null,
      "metadata": {
        "id": "NM4kiXWa-ELT"
      },
      "outputs": [],
      "source": [
        "fullDataLoader = DataLoader(full_data, y_test)"
      ]
    },
    {
      "cell_type": "markdown",
      "source": [
        "# **8.Définir les meusures d'évaluation**"
      ],
      "metadata": {
        "id": "uJyN-sAJwqPE"
      }
    },
    {
      "cell_type": "code",
      "execution_count": null,
      "metadata": {
        "id": "exckaRjB-IcE"
      },
      "outputs": [],
      "source": [
        "def compute_metrics(pred):\n",
        "\n",
        "    labels = pred.label_ids\n",
        "    preds = pred.predictions.argmax(-1)\n",
        "    precision, recall, f1, _ = precision_recall_fscore_support(labels, preds, average='macro')\n",
        "    acc = accuracy_score(labels, preds)\n",
        "\n",
        "    return {\n",
        "        'Accuracy': acc,\n",
        "        'F1': f1,\n",
        "        'Precision': precision, # est une mesure de la qualité d'un modèle de classification\n",
        "        'Recall': recall #est une mesure de la capacité d'un modèle de classification à identifier correctement tous les exemples positifs\n",
        "    }"
      ]
    },
    {
      "cell_type": "markdown",
      "source": [
        "# **9.Définir les hyperparamètres & Entraînement du model**\n",
        "\n",
        "\n",
        "\n",
        "\n",
        "\n"
      ],
      "metadata": {
        "id": "3MXQAgK_xIIN"
      }
    },
    {
      "cell_type": "code",
      "execution_count": null,
      "metadata": {
        "colab": {
          "base_uri": "https://localhost:8080/",
          "height": 208
        },
        "id": "uL_uQeMe-IM4",
        "outputId": "0a1d23b8-025c-41de-a44a-0dd6d36fe17f"
      },
      "outputs": [
        {
          "output_type": "display_data",
          "data": {
            "text/plain": [
              "<IPython.core.display.HTML object>"
            ],
            "text/html": [
              "\n",
              "    <div>\n",
              "      \n",
              "      <progress value='240' max='240' style='width:300px; height:20px; vertical-align: middle;'></progress>\n",
              "      [240/240 14:56, Epoch 60/60]\n",
              "    </div>\n",
              "    <table border=\"1\" class=\"dataframe\">\n",
              "  <thead>\n",
              " <tr style=\"text-align: left;\">\n",
              "      <th>Step</th>\n",
              "      <th>Training Loss</th>\n",
              "      <th>Validation Loss</th>\n",
              "      <th>Accuracy</th>\n",
              "      <th>F1</th>\n",
              "      <th>Precision</th>\n",
              "      <th>Recall</th>\n",
              "    </tr>\n",
              "  </thead>\n",
              "  <tbody>\n",
              "    <tr>\n",
              "      <td>100</td>\n",
              "      <td>2.217500</td>\n",
              "      <td>1.271808</td>\n",
              "      <td>0.805556</td>\n",
              "      <td>0.781955</td>\n",
              "      <td>0.802632</td>\n",
              "      <td>0.833333</td>\n",
              "    </tr>\n",
              "    <tr>\n",
              "      <td>200</td>\n",
              "      <td>0.160900</td>\n",
              "      <td>0.767699</td>\n",
              "      <td>0.833333</td>\n",
              "      <td>0.848622</td>\n",
              "      <td>0.846491</td>\n",
              "      <td>0.859649</td>\n",
              "    </tr>\n",
              "  </tbody>\n",
              "</table><p>"
            ]
          },
          "metadata": {}
        },
        {
          "output_type": "execute_result",
          "data": {
            "text/plain": [
              "TrainOutput(global_step=240, training_loss=0.9975152711073557, metrics={'train_runtime': 903.9651, 'train_samples_per_second': 7.102, 'train_steps_per_second': 0.265, 'total_flos': 36297342457200.0, 'train_loss': 0.9975152711073557, 'epoch': 60.0})"
            ]
          },
          "metadata": {},
          "execution_count": 136
        }
      ],
      "source": [
        "from transformers import Trainer, TrainingArguments\n",
        "# trainer est une classe qui permet de gérer le processus d'entraînement d'un modèle\n",
        "# TrainingArguments est une classe qui contient les arguments et les hyperparamètres pour l'entraînement d'un modèle\n",
        "\n",
        "# Création des arguments d'entraînement\n",
        "training_args = TrainingArguments(\n",
        "    output_dir='./output',  # Répertoire de sortie pour sauvegarder les modèles et les logs d'entraînement\n",
        "    do_train=True,  # Indique si l'entraînement doit être effectué\n",
        "    do_eval=True,  # Indique si l'évaluation doit être effectuée après chaque époque d'entraînement\n",
        "    num_train_epochs=60,  # Nombre total d'époques pour l'entraînement\n",
        "    per_device_train_batch_size=32,  # Taille du lot par périphérique pour l'entraînement\n",
        "    per_device_eval_batch_size=16,  # Taille du lot par périphérique pour l'évaluation\n",
        "    warmup_steps=100,  # Nombre d'étapes d'échauffement pour l'ajustement de l'apprentissage\n",
        "    weight_decay=0.05,  # Paramètre de régularisation pour la décroissance du poids\n",
        "    logging_strategy='steps',  # Stratégie de journalisation des métriques d'entraînement\n",
        "    logging_dir='./multi-class-logs',  # Répertoire pour enregistrer les fichiers de journalisation\n",
        "    logging_steps=100,  # Fréquence des étapes pour enregistrer les métriques de journalisation\n",
        "    evaluation_strategy=\"steps\",  # Stratégie d'évaluation pour l'évaluation périodique\n",
        "    eval_steps=100,  # Fréquence des étapes pour l'évaluation du modèle\n",
        "    save_strategy=\"steps\",  # Stratégie de sauvegarde pour sauvegarder le modèle à chaque étape\n",
        "    load_best_model_at_end=True  # Chargement du meilleur modèle à la fin de l'entraînement\n",
        ")\n",
        "\n",
        "\n",
        "# Création une instance de Trainer\n",
        "trainer = Trainer(\n",
        "    model=model,\n",
        "    args=training_args,\n",
        "    train_dataset=train_dataloader,  # DataLoader pour l'entraînement\n",
        "    eval_dataset=test_dataloader,  #  DataLoader pour l'évaluation\n",
        "    compute_metrics=compute_metrics  # Fonction pour calculer les métriques\n",
        ")\n",
        "\n",
        "# Lancer l'entraînement\n",
        "trainer.train()\n"
      ]
    },
    {
      "cell_type": "markdown",
      "source": [
        "# **10. Evaluation du model**\n",
        "\n",
        "\n"
      ],
      "metadata": {
        "id": "vys6C8v-xcnb"
      }
    },
    {
      "cell_type": "code",
      "execution_count": null,
      "metadata": {
        "colab": {
          "base_uri": "https://localhost:8080/",
          "height": 132
        },
        "id": "LCW6rPQIUxJy",
        "outputId": "07914ad2-1f7f-47f4-b18e-7e5b8bdda069"
      },
      "outputs": [
        {
          "output_type": "display_data",
          "data": {
            "text/plain": [
              "<IPython.core.display.HTML object>"
            ],
            "text/html": [
              "\n",
              "    <div>\n",
              "      \n",
              "      <progress value='10' max='7' style='width:300px; height:20px; vertical-align: middle;'></progress>\n",
              "      [7/7 00:08]\n",
              "    </div>\n",
              "    "
            ]
          },
          "metadata": {}
        },
        {
          "output_type": "execute_result",
          "data": {
            "text/plain": [
              "       eval_loss  eval_Accuracy   eval_F1  eval_Precision  eval_Recall\n",
              "train   0.027102       1.000000  1.000000        1.000000     1.000000\n",
              "test    0.786480       0.805556  0.813534        0.820175     0.833333"
            ],
            "text/html": [
              "\n",
              "  <div id=\"df-ca9ae4bf-ff10-49ee-9157-3b06f1453017\" class=\"colab-df-container\">\n",
              "    <div>\n",
              "<style scoped>\n",
              "    .dataframe tbody tr th:only-of-type {\n",
              "        vertical-align: middle;\n",
              "    }\n",
              "\n",
              "    .dataframe tbody tr th {\n",
              "        vertical-align: top;\n",
              "    }\n",
              "\n",
              "    .dataframe thead th {\n",
              "        text-align: right;\n",
              "    }\n",
              "</style>\n",
              "<table border=\"1\" class=\"dataframe\">\n",
              "  <thead>\n",
              "    <tr style=\"text-align: right;\">\n",
              "      <th></th>\n",
              "      <th>eval_loss</th>\n",
              "      <th>eval_Accuracy</th>\n",
              "      <th>eval_F1</th>\n",
              "      <th>eval_Precision</th>\n",
              "      <th>eval_Recall</th>\n",
              "    </tr>\n",
              "  </thead>\n",
              "  <tbody>\n",
              "    <tr>\n",
              "      <th>train</th>\n",
              "      <td>0.027102</td>\n",
              "      <td>1.000000</td>\n",
              "      <td>1.000000</td>\n",
              "      <td>1.000000</td>\n",
              "      <td>1.000000</td>\n",
              "    </tr>\n",
              "    <tr>\n",
              "      <th>test</th>\n",
              "      <td>0.786480</td>\n",
              "      <td>0.805556</td>\n",
              "      <td>0.813534</td>\n",
              "      <td>0.820175</td>\n",
              "      <td>0.833333</td>\n",
              "    </tr>\n",
              "  </tbody>\n",
              "</table>\n",
              "</div>\n",
              "    <div class=\"colab-df-buttons\">\n",
              "\n",
              "  <div class=\"colab-df-container\">\n",
              "    <button class=\"colab-df-convert\" onclick=\"convertToInteractive('df-ca9ae4bf-ff10-49ee-9157-3b06f1453017')\"\n",
              "            title=\"Convert this dataframe to an interactive table.\"\n",
              "            style=\"display:none;\">\n",
              "\n",
              "  <svg xmlns=\"http://www.w3.org/2000/svg\" height=\"24px\" viewBox=\"0 -960 960 960\">\n",
              "    <path d=\"M120-120v-720h720v720H120Zm60-500h600v-160H180v160Zm220 220h160v-160H400v160Zm0 220h160v-160H400v160ZM180-400h160v-160H180v160Zm440 0h160v-160H620v160ZM180-180h160v-160H180v160Zm440 0h160v-160H620v160Z\"/>\n",
              "  </svg>\n",
              "    </button>\n",
              "\n",
              "  <style>\n",
              "    .colab-df-container {\n",
              "      display:flex;\n",
              "      gap: 12px;\n",
              "    }\n",
              "\n",
              "    .colab-df-convert {\n",
              "      background-color: #E8F0FE;\n",
              "      border: none;\n",
              "      border-radius: 50%;\n",
              "      cursor: pointer;\n",
              "      display: none;\n",
              "      fill: #1967D2;\n",
              "      height: 32px;\n",
              "      padding: 0 0 0 0;\n",
              "      width: 32px;\n",
              "    }\n",
              "\n",
              "    .colab-df-convert:hover {\n",
              "      background-color: #E2EBFA;\n",
              "      box-shadow: 0px 1px 2px rgba(60, 64, 67, 0.3), 0px 1px 3px 1px rgba(60, 64, 67, 0.15);\n",
              "      fill: #174EA6;\n",
              "    }\n",
              "\n",
              "    .colab-df-buttons div {\n",
              "      margin-bottom: 4px;\n",
              "    }\n",
              "\n",
              "    [theme=dark] .colab-df-convert {\n",
              "      background-color: #3B4455;\n",
              "      fill: #D2E3FC;\n",
              "    }\n",
              "\n",
              "    [theme=dark] .colab-df-convert:hover {\n",
              "      background-color: #434B5C;\n",
              "      box-shadow: 0px 1px 3px 1px rgba(0, 0, 0, 0.15);\n",
              "      filter: drop-shadow(0px 1px 2px rgba(0, 0, 0, 0.3));\n",
              "      fill: #FFFFFF;\n",
              "    }\n",
              "  </style>\n",
              "\n",
              "    <script>\n",
              "      const buttonEl =\n",
              "        document.querySelector('#df-ca9ae4bf-ff10-49ee-9157-3b06f1453017 button.colab-df-convert');\n",
              "      buttonEl.style.display =\n",
              "        google.colab.kernel.accessAllowed ? 'block' : 'none';\n",
              "\n",
              "      async function convertToInteractive(key) {\n",
              "        const element = document.querySelector('#df-ca9ae4bf-ff10-49ee-9157-3b06f1453017');\n",
              "        const dataTable =\n",
              "          await google.colab.kernel.invokeFunction('convertToInteractive',\n",
              "                                                    [key], {});\n",
              "        if (!dataTable) return;\n",
              "\n",
              "        const docLinkHtml = 'Like what you see? Visit the ' +\n",
              "          '<a target=\"_blank\" href=https://colab.research.google.com/notebooks/data_table.ipynb>data table notebook</a>'\n",
              "          + ' to learn more about interactive tables.';\n",
              "        element.innerHTML = '';\n",
              "        dataTable['output_type'] = 'display_data';\n",
              "        await google.colab.output.renderOutput(dataTable, element);\n",
              "        const docLink = document.createElement('div');\n",
              "        docLink.innerHTML = docLinkHtml;\n",
              "        element.appendChild(docLink);\n",
              "      }\n",
              "    </script>\n",
              "  </div>\n",
              "\n",
              "\n",
              "<div id=\"df-a5430496-5109-47d2-919e-90ce665c872a\">\n",
              "  <button class=\"colab-df-quickchart\" onclick=\"quickchart('df-a5430496-5109-47d2-919e-90ce665c872a')\"\n",
              "            title=\"Suggest charts\"\n",
              "            style=\"display:none;\">\n",
              "\n",
              "<svg xmlns=\"http://www.w3.org/2000/svg\" height=\"24px\"viewBox=\"0 0 24 24\"\n",
              "     width=\"24px\">\n",
              "    <g>\n",
              "        <path d=\"M19 3H5c-1.1 0-2 .9-2 2v14c0 1.1.9 2 2 2h14c1.1 0 2-.9 2-2V5c0-1.1-.9-2-2-2zM9 17H7v-7h2v7zm4 0h-2V7h2v10zm4 0h-2v-4h2v4z\"/>\n",
              "    </g>\n",
              "</svg>\n",
              "  </button>\n",
              "\n",
              "<style>\n",
              "  .colab-df-quickchart {\n",
              "      --bg-color: #E8F0FE;\n",
              "      --fill-color: #1967D2;\n",
              "      --hover-bg-color: #E2EBFA;\n",
              "      --hover-fill-color: #174EA6;\n",
              "      --disabled-fill-color: #AAA;\n",
              "      --disabled-bg-color: #DDD;\n",
              "  }\n",
              "\n",
              "  [theme=dark] .colab-df-quickchart {\n",
              "      --bg-color: #3B4455;\n",
              "      --fill-color: #D2E3FC;\n",
              "      --hover-bg-color: #434B5C;\n",
              "      --hover-fill-color: #FFFFFF;\n",
              "      --disabled-bg-color: #3B4455;\n",
              "      --disabled-fill-color: #666;\n",
              "  }\n",
              "\n",
              "  .colab-df-quickchart {\n",
              "    background-color: var(--bg-color);\n",
              "    border: none;\n",
              "    border-radius: 50%;\n",
              "    cursor: pointer;\n",
              "    display: none;\n",
              "    fill: var(--fill-color);\n",
              "    height: 32px;\n",
              "    padding: 0;\n",
              "    width: 32px;\n",
              "  }\n",
              "\n",
              "  .colab-df-quickchart:hover {\n",
              "    background-color: var(--hover-bg-color);\n",
              "    box-shadow: 0 1px 2px rgba(60, 64, 67, 0.3), 0 1px 3px 1px rgba(60, 64, 67, 0.15);\n",
              "    fill: var(--button-hover-fill-color);\n",
              "  }\n",
              "\n",
              "  .colab-df-quickchart-complete:disabled,\n",
              "  .colab-df-quickchart-complete:disabled:hover {\n",
              "    background-color: var(--disabled-bg-color);\n",
              "    fill: var(--disabled-fill-color);\n",
              "    box-shadow: none;\n",
              "  }\n",
              "\n",
              "  .colab-df-spinner {\n",
              "    border: 2px solid var(--fill-color);\n",
              "    border-color: transparent;\n",
              "    border-bottom-color: var(--fill-color);\n",
              "    animation:\n",
              "      spin 1s steps(1) infinite;\n",
              "  }\n",
              "\n",
              "  @keyframes spin {\n",
              "    0% {\n",
              "      border-color: transparent;\n",
              "      border-bottom-color: var(--fill-color);\n",
              "      border-left-color: var(--fill-color);\n",
              "    }\n",
              "    20% {\n",
              "      border-color: transparent;\n",
              "      border-left-color: var(--fill-color);\n",
              "      border-top-color: var(--fill-color);\n",
              "    }\n",
              "    30% {\n",
              "      border-color: transparent;\n",
              "      border-left-color: var(--fill-color);\n",
              "      border-top-color: var(--fill-color);\n",
              "      border-right-color: var(--fill-color);\n",
              "    }\n",
              "    40% {\n",
              "      border-color: transparent;\n",
              "      border-right-color: var(--fill-color);\n",
              "      border-top-color: var(--fill-color);\n",
              "    }\n",
              "    60% {\n",
              "      border-color: transparent;\n",
              "      border-right-color: var(--fill-color);\n",
              "    }\n",
              "    80% {\n",
              "      border-color: transparent;\n",
              "      border-right-color: var(--fill-color);\n",
              "      border-bottom-color: var(--fill-color);\n",
              "    }\n",
              "    90% {\n",
              "      border-color: transparent;\n",
              "      border-bottom-color: var(--fill-color);\n",
              "    }\n",
              "  }\n",
              "</style>\n",
              "\n",
              "  <script>\n",
              "    async function quickchart(key) {\n",
              "      const quickchartButtonEl =\n",
              "        document.querySelector('#' + key + ' button');\n",
              "      quickchartButtonEl.disabled = true;  // To prevent multiple clicks.\n",
              "      quickchartButtonEl.classList.add('colab-df-spinner');\n",
              "      try {\n",
              "        const charts = await google.colab.kernel.invokeFunction(\n",
              "            'suggestCharts', [key], {});\n",
              "      } catch (error) {\n",
              "        console.error('Error during call to suggestCharts:', error);\n",
              "      }\n",
              "      quickchartButtonEl.classList.remove('colab-df-spinner');\n",
              "      quickchartButtonEl.classList.add('colab-df-quickchart-complete');\n",
              "    }\n",
              "    (() => {\n",
              "      let quickchartButtonEl =\n",
              "        document.querySelector('#df-a5430496-5109-47d2-919e-90ce665c872a button');\n",
              "      quickchartButtonEl.style.display =\n",
              "        google.colab.kernel.accessAllowed ? 'block' : 'none';\n",
              "    })();\n",
              "  </script>\n",
              "</div>\n",
              "    </div>\n",
              "  </div>\n"
            ],
            "application/vnd.google.colaboratory.intrinsic+json": {
              "type": "dataframe",
              "summary": "{\n  \"name\": \"pd\",\n  \"rows\": 2,\n  \"fields\": [\n    {\n      \"column\": \"eval_loss\",\n      \"properties\": {\n        \"dtype\": \"number\",\n        \"std\": 0.5369617765992664,\n        \"min\": 0.02710174024105072,\n        \"max\": 0.7864803671836853,\n        \"num_unique_values\": 2,\n        \"samples\": [\n          0.7864803671836853,\n          0.02710174024105072\n        ],\n        \"semantic_type\": \"\",\n        \"description\": \"\"\n      }\n    },\n    {\n      \"column\": \"eval_Accuracy\",\n      \"properties\": {\n        \"dtype\": \"number\",\n        \"std\": 0.13749298523071754,\n        \"min\": 0.8055555555555556,\n        \"max\": 1.0,\n        \"num_unique_values\": 2,\n        \"samples\": [\n          0.8055555555555556,\n          1.0\n        ],\n        \"semantic_type\": \"\",\n        \"description\": \"\"\n      }\n    },\n    {\n      \"column\": \"eval_F1\",\n      \"properties\": {\n        \"dtype\": \"number\",\n        \"std\": 0.1318514900257622,\n        \"min\": 0.8135338345864662,\n        \"max\": 1.0,\n        \"num_unique_values\": 2,\n        \"samples\": [\n          0.8135338345864662,\n          1.0\n        ],\n        \"semantic_type\": \"\",\n        \"description\": \"\"\n      }\n    },\n    {\n      \"column\": \"eval_Precision\",\n      \"properties\": {\n        \"dtype\": \"number\",\n        \"std\": 0.12715516679231784,\n        \"min\": 0.8201754385964911,\n        \"max\": 1.0,\n        \"num_unique_values\": 2,\n        \"samples\": [\n          0.8201754385964911,\n          1.0\n        ],\n        \"semantic_type\": \"\",\n        \"description\": \"\"\n      }\n    },\n    {\n      \"column\": \"eval_Recall\",\n      \"properties\": {\n        \"dtype\": \"number\",\n        \"std\": 0.11785113019775798,\n        \"min\": 0.8333333333333333,\n        \"max\": 1.0,\n        \"num_unique_values\": 2,\n        \"samples\": [\n          0.8333333333333333,\n          1.0\n        ],\n        \"semantic_type\": \"\",\n        \"description\": \"\"\n      }\n    }\n  ]\n}"
            }
          },
          "metadata": {},
          "execution_count": 138
        }
      ],
      "source": [
        "q=[trainer.evaluate(eval_dataset=df) for df in [train_dataloader, test_dataloader]]\n",
        "\n",
        "pd.DataFrame(q, index=[\"train\",\"test\"]).iloc[:,:5]"
      ]
    },
    {
      "cell_type": "code",
      "execution_count": null,
      "metadata": {
        "id": "-j92Q3NVYuFn"
      },
      "outputs": [],
      "source": [
        "def predict(text):\n",
        "    # Tokeniser le texte et le transformer en tensors PyTorch\n",
        "    inputs = tokenizer(text, padding=True, truncation=True, max_length=512, return_tensors=\"pt\").to(\"cpu\")\n",
        "    #  prédiction avec le modèle\n",
        "    outputs = model(**inputs)\n",
        "    # Appliquation de la fonction softmax pour obtenir les probabilités des classes\n",
        "    probs = outputs[0].softmax(1)\n",
        "    # Déterminer l'indice de la classe prédite\n",
        "    pred_label_idx = probs.argmax()\n",
        "    # Obtenir l'étiquette prédite à partir de l'indice de classe\n",
        "    pred_label = model.config.id2label[pred_label_idx.item()]\n",
        "    # Retourne les probabilités, l'indice de l'étiquette prédite et l'étiquette prédite\n",
        "    return probs, pred_label_idx, pred_label\n"
      ]
    },
    {
      "cell_type": "markdown",
      "source": [
        "# **11. Enregistrement du model**"
      ],
      "metadata": {
        "id": "F8VItMnnxxxY"
      }
    },
    {
      "cell_type": "code",
      "execution_count": null,
      "metadata": {
        "colab": {
          "base_uri": "https://localhost:8080/"
        },
        "id": "LUhfgxI1l2Yd",
        "outputId": "94416403-d626-471a-ffb2-2246e6ccb6d8"
      },
      "outputs": [
        {
          "output_type": "execute_result",
          "data": {
            "text/plain": [
              "('chatbot/tokenizer_config.json',\n",
              " 'chatbot/special_tokens_map.json',\n",
              " 'chatbot/vocab.txt',\n",
              " 'chatbot/added_tokens.json')"
            ]
          },
          "metadata": {},
          "execution_count": 140
        }
      ],
      "source": [
        "model_path = \"chatbot\"\n",
        "trainer.save_model(model_path)\n",
        "tokenizer.save_pretrained(model_path)\n",
        "# contient la configuration du tokenizer #chatbot/tokenizer_config.json\n",
        "#Ce fichier cartographie les tokens spéciaux aux identifiants numériques dans le tokenizer. #chatbot/special_tokens_map.jso\n",
        "# Ce fichier contient le vocabulaire du tokenizer, avec chaque token sur une ligne distincte et son identifiant numérique correspondant #chatbot/vocab.txt\n",
        "# Ce fichier contient des tokens spéciaux ajoutés au vocabulaire existant du tokenizer, avec leurs identifiants numériques #chatbot/added_tokens.json"
      ]
    },
    {
      "cell_type": "markdown",
      "source": [
        "# **12. Test du Chatbot**"
      ],
      "metadata": {
        "id": "ElGhbCnBR9kf"
      }
    },
    {
      "cell_type": "code",
      "execution_count": null,
      "metadata": {
        "id": "VJ1sCogqmFQw",
        "colab": {
          "base_uri": "https://localhost:8080/"
        },
        "outputId": "02b3d639-b822-45c4-bdbc-ce00b941e5c2"
      },
      "outputs": [
        {
          "name": "stdout",
          "output_type": "stream",
          "text": [
            "Chatbot: Hi! I am your virtual assistant. Feel free to ask, and I'll do my best to provide you with answers and assistance.\n",
            "Type 'quit' to exit the chat\n",
            "\n",
            "\n",
            "User: hello\n",
            "Chatbot: Hi human, please tell me your GeniSys user\n",
            "\n",
            "\n",
            "User: how are you\n",
            "Chatbot: Hi, I am good thank you, how are you? Please tell me your GeniSys user\n",
            "\n",
            "\n",
            "User: fine thanks\n",
            "Chatbot: My pleasure\n",
            "\n",
            "\n",
            "User: tell me a joke\n",
            "Chatbot: Man: (to friend) I'm taking my wife on an African Safari. Friend: Wow! What would you do if a vicious lion attacked your wife? Man: Nothing. Friend: Nothing? You wouldn't do anything? Man: Too right. I'd let the stupid lion fend for himself!\n",
            "\n",
            "\n",
            "User: i ' am nour\n",
            "Chatbot: OK! Hola <HUMAN>, how can I help you?\n",
            "\n",
            "\n",
            "User: your name\n",
            "Chatbot: Sorry, I can't answer that\n",
            "\n",
            "\n",
            "User: time\n",
            "Chatbot: One second\n",
            "\n",
            "\n",
            "User: bye\n",
            "Chatbot: Have a nice day\n",
            "\n",
            "\n",
            "User: quit\n"
          ]
        }
      ],
      "source": [
        "# Définition du chemin du modèle et chargement du modèle BERT pour l'analyse de sentiment\n",
        "model_path = \"chatbot\"\n",
        "model = BertForSequenceClassification.from_pretrained(model_path)\n",
        "\n",
        "# Chargement du tokenizer correspondant au modèle\n",
        "tokenizer = BertTokenizerFast.from_pretrained(model_path)\n",
        "\n",
        "# Création d'un pipeline de classification de sentiment utilisant le modèle et le tokenizer chargés\n",
        "chatbot = pipeline(\"sentiment-analysis\", model=model, tokenizer=tokenizer)\n",
        "\n",
        "# Définition de la fonction de chat\n",
        "def chat(chatbot):\n",
        "    # Message d'introduction pour l'utilisateur\n",
        "    print(\"Chatbot: Hi! I am your virtual assistant. Feel free to ask, and I'll do my best to provide you with answers and assistance.\")\n",
        "    print(\"Type 'quit' to exit the chat\\n\\n\")\n",
        "\n",
        "    # Demande de l'entrée de l'utilisateur\n",
        "    text = input(\"User: \").strip().lower()\n",
        "\n",
        "\n",
        "    while text != 'quit':\n",
        "        # Obtention de la prédiction de sentiment pour l'entrée de l'utilisateur\n",
        "        prediction = chatbot(text)[0]\n",
        "        # Conversion de l'étiquette prédite en identifiant correspondant\n",
        "        label = label2id[chatbot(text)[0]['label']]\n",
        "        # Récupération du score de confiance de la prédiction\n",
        "        score = prediction['score']\n",
        "\n",
        "        # Vérification de la confiance de la prédiction\n",
        "        if score < 0.8:\n",
        "            # Si la confiance est faible, afficher un message d'incertitude\n",
        "            print(\"Chatbot: Sorry, I can't answer that\\n\\n\")\n",
        "        else:\n",
        "            # Si la confiance est suffisante,\n",
        "            response = random.choice(intents['intents'][label]['responses'])\n",
        "            # Affichage de la réponse\n",
        "            print(f\"Chatbot: {response}\\n\\n\")\n",
        "\n",
        "\n",
        "        text = input(\"User: \").strip().lower()\n",
        "\n",
        "# Appel de la fonction de chat avec le chatbot initialisé pour démarrer l'interaction\n",
        "chat(chatbot)\n"
      ]
    }
  ],
  "metadata": {
    "colab": {
      "provenance": [],
      "include_colab_link": true
    },
    "kernelspec": {
      "display_name": "Python 3",
      "name": "python3"
    },
    "language_info": {
      "name": "python"
    }
  },
  "nbformat": 4,
  "nbformat_minor": 0
}